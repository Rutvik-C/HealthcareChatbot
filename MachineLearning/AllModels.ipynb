{
 "cells": [
  {
   "cell_type": "code",
   "execution_count": 1,
   "source": [
    "# all necessary imports\n",
    "import warnings\n",
    "from decimal import Decimal\n",
    "import pandas as pd\n",
    "from sklearn.tree import DecisionTreeClassifier\n",
    "from sklearn.linear_model import LogisticRegression\n",
    "from sklearn.neighbors import KNeighborsClassifier\n",
    "from sklearn.svm import SVC\n",
    "from sklearn.metrics import accuracy_score\n",
    "from sklearn.model_selection import train_test_split, cross_val_score\n",
    "from sklearn.model_selection import GridSearchCV\n",
    "from sklearn.naive_bayes import MultinomialNB\n",
    "from sklearn.ensemble import RandomForestClassifier\n",
    "from sklearn.neural_network import MLPClassifier\n",
    "from xgboost import XGBClassifier\n",
    "import matplotlib.pyplot as plt\n",
    "# ignore warnings generated due to usage of old version of tensorflow\n",
    "warnings.simplefilter(\"ignore\")"
   ],
   "outputs": [],
   "metadata": {
    "colab": {},
    "colab_type": "code",
    "id": "lEsjGGNblruf"
   }
  },
  {
   "cell_type": "markdown",
   "source": [
    "**Disease Symptom dataset** was created in a separate python program.\n",
    "\n",
    "**Dataset scrapping** was done using **NHP website** and **wikipedia data**"
   ],
   "metadata": {
    "colab_type": "text",
    "id": "t1sbUx8C22zG"
   }
  },
  {
   "cell_type": "code",
   "execution_count": 2,
   "source": [
    "df_comb = pd.read_csv(\"Dataset/dis_sym_dataset_comb.csv\")\n",
    "\n",
    "# creation of features and label for training the models\n",
    "X = df_comb.iloc[:, 1:]\n",
    "Y = df_comb.iloc[:, 0:1]"
   ],
   "outputs": [],
   "metadata": {
    "colab": {},
    "colab_type": "code",
    "id": "xTIhMk1Ilz7O"
   }
  },
  {
   "cell_type": "markdown",
   "source": [
    "*Train Test Split*"
   ],
   "metadata": {
    "colab_type": "text",
    "id": "wB98cbQc3kX1"
   }
  },
  {
   "cell_type": "code",
   "execution_count": 3,
   "source": [
    "# splitting data for training the classifiers and testing\n",
    "x_train, x_test, y_train, y_test = train_test_split(X, Y, test_size=0.10)"
   ],
   "outputs": [],
   "metadata": {
    "colab": {},
    "colab_type": "code",
    "id": "43edxNr-l37s"
   }
  },
  {
   "cell_type": "code",
   "execution_count": 4,
   "source": [
    "# lists used for accuracy plots\n",
    "accuracy_list = []\n",
    "cross_accuracy_list = []\n",
    "model_list = []"
   ],
   "outputs": [],
   "metadata": {
    "colab": {},
    "colab_type": "code",
    "id": "NFWxSoKRl6iU"
   }
  },
  {
   "cell_type": "markdown",
   "source": [
    "# **Multinomial Naive Bayes Classifier**\n",
    "\n"
   ],
   "metadata": {
    "colab_type": "text",
    "id": "50u3FJaH3r0k"
   }
  },
  {
   "cell_type": "code",
   "execution_count": 5,
   "source": [
    "# Multinomial NB Classifier\n",
    "mnb = MultinomialNB()\n",
    "mnb = mnb.fit(X, Y)\n",
    "# prediction of labels for the test data\n",
    "mnb_pred = mnb.predict(x_test)\n",
    "# calculation of accuracy score based on predictions performed\n",
    "# converting to Decimal as rounding with float is inaccurate\n",
    "acc_mnb = round(Decimal(accuracy_score(y_test, mnb_pred) * 100), 2)\n",
    "accuracy_list.append(acc_mnb)\n",
    "model_list.append(\"MNB\")\n",
    "print(f\"Accuracy (MNB) : {acc_mnb}%\")\n",
    "\n",
    "# Cross Validation Accuracy MNB\n",
    "# performing cross validation with 5 different splits\n",
    "scores_mnb = cross_val_score(mnb, X, Y, cv=5)\n",
    "# mean of cross val score (accuracy)\n",
    "score = round(Decimal(scores_mnb.mean() * 100), 2)\n",
    "cross_accuracy_list.append(score)\n",
    "print(f\"Cross Validation Accuracy (MNB): {score}%\")"
   ],
   "outputs": [
    {
     "output_type": "stream",
     "name": "stdout",
     "text": [
      "Accuracy (MNB) : 83.37%\n",
      "Cross Validation Accuracy (MNB): 84.50%\n"
     ]
    }
   ],
   "metadata": {
    "colab": {
     "base_uri": "https://localhost:8080/",
     "height": 50
    },
    "colab_type": "code",
    "id": "OUrShCRcl8Gs",
    "outputId": "fa8d8306-89bf-4c5d-e23f-58a60d0bf647"
   }
  },
  {
   "cell_type": "markdown",
   "source": [
    "# **Random Forest Classifier**\n"
   ],
   "metadata": {
    "colab_type": "text",
    "id": "gEJWlm2u3yRc"
   }
  },
  {
   "cell_type": "code",
   "execution_count": 6,
   "source": [
    "# RF Classifier\n",
    "rf = RandomForestClassifier(n_estimators=10, criterion='entropy')\n",
    "rf = rf.fit(X, Y)\n",
    "# prediction of labels for the test data\n",
    "rf_pred = rf.predict(x_test)\n",
    "acc_rf = round(Decimal(accuracy_score(y_test, rf_pred) * 100), 2)\n",
    "accuracy_list.append(acc_rf)\n",
    "model_list.append(\"RF\")\n",
    "print(f\"Accuracy (RF) : {acc_rf}%\")\n",
    "\n",
    "# Cross Validation Accuracy RF\n",
    "# performing cross validation with 5 different splits\n",
    "scores_rf = cross_val_score(rf, X, Y, cv=5)\n",
    "# mean of cross val score (accuracy)\n",
    "score = round(Decimal(scores_rf.mean() * 100), 2)\n",
    "cross_accuracy_list.append(score)\n",
    "print(f\"Cross Validation Accuracy (RF): {score}%\")"
   ],
   "outputs": [
    {
     "output_type": "stream",
     "name": "stdout",
     "text": [
      "Accuracy (RF) : 90.38%\n",
      "Cross Validation Accuracy (RF): 86.89%\n"
     ]
    }
   ],
   "metadata": {
    "colab": {
     "base_uri": "https://localhost:8080/",
     "height": 50
    },
    "colab_type": "code",
    "id": "owiCcnlvmAP9",
    "outputId": "0e011b23-5965-4fa7-ee6d-416ebc2070ed"
   }
  },
  {
   "cell_type": "markdown",
   "source": [
    "# **K-Nearest Neighbor Classifier**\n"
   ],
   "metadata": {
    "colab_type": "text",
    "id": "xxdvB5Bz9yEx"
   }
  },
  {
   "cell_type": "code",
   "execution_count": 7,
   "source": [
    "# KNN Classifier\n",
    "knn = KNeighborsClassifier(n_neighbors=7, weights='distance', n_jobs=4)\n",
    "knn = knn.fit(X, Y)\n",
    "# prediction of labels for the test data\n",
    "knn_pred = knn.predict(x_test)\n",
    "acc_knn = round(Decimal(accuracy_score(y_test, knn_pred) * 100), 2)\n",
    "accuracy_list.append(acc_knn)\n",
    "model_list.append(\"KNN\")\n",
    "print(f\"Accuracy (KNN) : {acc_knn}%\")\n",
    "\n",
    "# Cross Validation Accuracy KNN\n",
    "# performing cross validation with 5 different splits\n",
    "scores_knn = cross_val_score(knn, X, Y, cv=5)\n",
    "# mean of cross val score (accuracy)\n",
    "score = round(Decimal(scores_knn.mean() * 100), 2)\n",
    "cross_accuracy_list.append(score)\n",
    "print(f\"Cross Validation Accuracy (KNN): {score}%\")"
   ],
   "outputs": [
    {
     "output_type": "stream",
     "name": "stdout",
     "text": [
      "Accuracy (KNN) : 90.16%\n",
      "Cross Validation Accuracy (KNN): 87.03%\n"
     ]
    }
   ],
   "metadata": {
    "colab": {
     "base_uri": "https://localhost:8080/",
     "height": 50
    },
    "colab_type": "code",
    "id": "OfIMLCfPmCqr",
    "outputId": "2040dc76-c519-433e-e558-504b38f9d227"
   }
  },
  {
   "cell_type": "markdown",
   "source": [
    "# **Logistic Regression Classifier**\n"
   ],
   "metadata": {
    "colab_type": "text",
    "id": "x4j2f2dH94dU"
   }
  },
  {
   "cell_type": "code",
   "execution_count": 8,
   "source": [
    "# LR Classifier\n",
    "lr = LogisticRegression()\n",
    "lr = lr.fit(X, Y)\n",
    "# prediction of labels for the test data\n",
    "lr_pred = lr.predict(x_test)\n",
    "acc_lr = round(Decimal(accuracy_score(y_test, lr_pred) * 100), 2)\n",
    "accuracy_list.append(acc_lr)\n",
    "model_list.append(\"LR\")\n",
    "print(f\"Accuracy (LR) : {acc_lr}%\")\n",
    "\n",
    "# Cross Validation Accuracy LR\n",
    "# performing cross validation with 5 different splits\n",
    "scores_lr = cross_val_score(lr, X, Y, cv=5)\n",
    "# mean of cross val score (accuracy)\n",
    "score = round(Decimal(scores_lr.mean() * 100), 2)\n",
    "cross_accuracy_list.append(score)\n",
    "print(f\"Cross Validation Accuracy (LR): {score}%\")"
   ],
   "outputs": [
    {
     "output_type": "stream",
     "name": "stdout",
     "text": [
      "Accuracy (LR) : 89.71%\n",
      "Cross Validation Accuracy (LR): 89.19%\n"
     ]
    }
   ],
   "metadata": {
    "colab": {
     "base_uri": "https://localhost:8080/",
     "height": 50
    },
    "colab_type": "code",
    "id": "-ZBVt3BlmE7c",
    "outputId": "173b9591-29c3-4ad4-9139-1bcf2102b9e6"
   }
  },
  {
   "cell_type": "markdown",
   "source": [
    "# **Support Vector Machine Classifier**\n"
   ],
   "metadata": {
    "colab_type": "text",
    "id": "Zbz-aL_Q9_U0"
   }
  },
  {
   "cell_type": "code",
   "execution_count": null,
   "source": [
    "# SVM Classifier\n",
    "svm = SVC()\n",
    "svm = svm.fit(X, Y)\n",
    "# prediction of labels for the test data\n",
    "svm_pred = svm.predict(x_test)\n",
    "acc_svm = round(Decimal(accuracy_score(y_test, svm_pred) * 100), 2)\n",
    "accuracy_list.append(acc_svm)\n",
    "model_list.append(\"SVM\")\n",
    "print(f\"Accuracy (SVM) : {acc_svm}%\")\n",
    "\n",
    "# Cross Validation Accuracy SVM\n",
    "# performing cross validation with 5 different splits\n",
    "scores_svm = cross_val_score(svm, X, Y, cv=5)\n",
    "# mean of cross val score (accuracy)\n",
    "score = round(Decimal(scores_svm.mean() * 100), 2)\n",
    "cross_accuracy_list.append(score)\n",
    "print(f\"Cross Validation Accuracy (SVM): {score}%\")"
   ],
   "outputs": [
    {
     "output_type": "stream",
     "name": "stdout",
     "text": [
      "Accuracy (SVM) : 89.25%\n"
     ]
    }
   ],
   "metadata": {
    "colab": {
     "base_uri": "https://localhost:8080/",
     "height": 50
    },
    "colab_type": "code",
    "id": "JDSJc0RlmG-0",
    "outputId": "ee7dc68c-51a3-4630-ed30-9a421fb43ba4"
   }
  },
  {
   "cell_type": "markdown",
   "source": [
    "# **Decision Tree Classifier**\n"
   ],
   "metadata": {
    "colab_type": "text",
    "id": "uUYxizhO-FtC"
   }
  },
  {
   "cell_type": "code",
   "execution_count": 10,
   "source": [
    "# DT Classifier\n",
    "dt = DecisionTreeClassifier()\n",
    "dt = dt.fit(X, Y)\n",
    "# prediction of labels for the test data\n",
    "dt_pred = dt.predict(x_test)\n",
    "acc_dt = round(Decimal(accuracy_score(y_test, dt_pred) * 100), 2)\n",
    "accuracy_list.append(acc_dt)\n",
    "model_list.append(\"DT\")\n",
    "print(f\"Accuracy (DT) : {acc_dt}%\")\n",
    "\n",
    "# Cross Validation Accuracy DT\n",
    "# performing cross validation with 5 different splits\n",
    "scores_dt = cross_val_score(dt, X, Y, cv=5)\n",
    "# mean of cross val score (accuracy)\n",
    "score = round(Decimal(scores_dt.mean() * 100), 2)\n",
    "cross_accuracy_list.append(score)\n",
    "print(f\"Cross Validation Accuracy (DT): {score}%\")"
   ],
   "outputs": [
    {
     "output_type": "stream",
     "name": "stdout",
     "text": [
      "Accuracy (DT) : 91.29%\n",
      "Cross Validation Accuracy (DT): 83.60%\n"
     ]
    }
   ],
   "metadata": {
    "colab": {
     "base_uri": "https://localhost:8080/",
     "height": 50
    },
    "colab_type": "code",
    "id": "CwFDYYBQmKAc",
    "outputId": "fca7c327-b54d-4ffb-9eb8-4711372773cb"
   }
  },
  {
   "cell_type": "markdown",
   "source": [
    "# **Multilayer Perceptron Classifier**\n"
   ],
   "metadata": {
    "colab_type": "text",
    "id": "2zI71-uw-JMq"
   }
  },
  {
   "cell_type": "code",
   "execution_count": 11,
   "source": [
    "# MLP Classifier\n",
    "mlp = MLPClassifier(hidden_layer_sizes=(32, 32, 32), activation='relu', solver='adam', max_iter=50)\n",
    "mlp = mlp.fit(X, Y)\n",
    "# prediction of labels for the test data\n",
    "mlp_pred = mlp.predict(x_test)\n",
    "acc_mlp = round(Decimal(accuracy_score(y_test, mlp_pred) * 100), 2)\n",
    "accuracy_list.append(acc_mlp)\n",
    "model_list.append(\"MLP\")\n",
    "print(f\"Accuracy (MLP) : {acc_mlp}%\")\n",
    "\n",
    "# Cross Validation Accuracy MLP\n",
    "# performing cross validation with 5 different splits\n",
    "scores_mlp = cross_val_score(mlp, X, Y, cv=5)\n",
    "# mean of cross val score (accuracy)\n",
    "score = round(Decimal(scores_mlp.mean() * 100), 2)\n",
    "cross_accuracy_list.append(score)\n",
    "print(f\"Cross Validation Accuracy (MLP): {score}%\")"
   ],
   "outputs": [
    {
     "output_type": "stream",
     "name": "stdout",
     "text": [
      "Accuracy (MLP) : 90.72%\n",
      "Cross Validation Accuracy (MLP): 86.77%\n"
     ]
    }
   ],
   "metadata": {
    "colab": {
     "base_uri": "https://localhost:8080/",
     "height": 50
    },
    "colab_type": "code",
    "id": "nwVwjevImMQU",
    "outputId": "18989cdc-3840-47c7-92dd-f5775446042a"
   }
  },
  {
   "cell_type": "markdown",
   "source": [
    "# **Accuracy Comparison Plot for all the classifiers**"
   ],
   "metadata": {
    "colab_type": "text",
    "id": "x0deyBf7-QSD"
   }
  },
  {
   "cell_type": "code",
   "execution_count": 58,
   "source": [
    "# comparison plot for all classifiers with their accuracy\n",
    "plt.style.use('seaborn-poster')\n",
    "fig = plt.figure(figsize=(10, 10))\n",
    "ax = fig.add_subplot()\n",
    "plt.title(\"Model Vs Accuracy\")\n",
    "plt.xlabel('Classifier')\n",
    "plt.ylabel('Accuracy (%)')\n",
    "plt.bar(model_list, accuracy_list, color='green')\n",
    "for i, j in enumerate(accuracy_list):\n",
    "    ax.text(float(i)-0.15, float(j)+0.7, str(j), color='blue')\n",
    "plt.show()"
   ],
   "outputs": [
    {
     "output_type": "display_data",
     "data": {
      "text/plain": [
       "<Figure size 720x720 with 1 Axes>"
      ],
      "image/png": "[encoded data removed]"
     },
     "metadata": {
      "needs_background": "light",
      "tags": []
     }
    }
   ],
   "metadata": {
    "colab": {
     "base_uri": "https://localhost:8080/",
     "height": 647
    },
    "colab_type": "code",
    "id": "c_4WiPo4mR2M",
    "outputId": "e233f609-b457-47cc-cdaa-9905da4a9355"
   }
  },
  {
   "cell_type": "markdown",
   "source": [
    "# **Cross Validation Accuracy Comparison Plot for all the classifiers**"
   ],
   "metadata": {
    "colab_type": "text",
    "id": "ja6vRv2M-l_s"
   }
  },
  {
   "cell_type": "code",
   "execution_count": 57,
   "source": [
    "# comparison plot for all classifiers with their accuracy\n",
    "plt.style.use('seaborn-poster')\n",
    "fig = plt.figure(figsize=(10, 10))\n",
    "ax = fig.add_subplot()\n",
    "plt.title(\"Model Vs Cross Validation Accuracy\")\n",
    "plt.xlabel('Classifier')\n",
    "plt.ylabel('Accuracy (%)')\n",
    "plt.bar(model_list, cross_accuracy_list, color='green')\n",
    "for i, j in enumerate(cross_accuracy_list):\n",
    "    ax.text(float(i)-0.15, float(j)+0.7, str(j), color='blue')\n",
    "plt.show()"
   ],
   "outputs": [
    {
     "output_type": "display_data",
     "data": {
      "text/plain": [
       "<Figure size 720x720 with 1 Axes>"
      ],
      "image/png": "[encoded data removed]"
     },
     "metadata": {
      "needs_background": "light",
      "tags": []
     }
    }
   ],
   "metadata": {
    "colab": {
     "base_uri": "https://localhost:8080/",
     "height": 647
    },
    "colab_type": "code",
    "id": "8WmaR3XBzT0e",
    "outputId": "77a1a225-6af3-4088-8414-c29ae6a621da"
   }
  }
 ],
 "metadata": {
  "accelerator": "GPU",
  "colab": {
   "collapsed_sections": [],
   "name": "Model_latest.ipynb",
   "provenance": []
  },
  "kernelspec": {
   "display_name": "Python 3",
   "language": "python",
   "name": "python3"
  },
  "language_info": {
   "codemirror_mode": {
    "name": "ipython",
    "version": 3
   },
   "file_extension": ".py",
   "mimetype": "text/x-python",
   "name": "python",
   "nbconvert_exporter": "python",
   "pygments_lexer": "ipython3",
   "version": "3.8.10"
  }
 },
 "nbformat": 4,
 "nbformat_minor": 1
}