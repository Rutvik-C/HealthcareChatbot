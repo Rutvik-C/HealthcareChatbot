{
 "cells": [
  {
   "cell_type": "code",
   "execution_count": 1,
   "metadata": {
    "colab": {
     "base_uri": "https://localhost:8080/",
     "height": 101
    },
    "colab_type": "code",
    "id": "etxuEgYCG7bC",
    "outputId": "b1aa83f5-0ac1-4c9b-b532-575fc01660c5"
   },
   "outputs": [
    {
     "name": "stderr",
     "output_type": "stream",
     "text": [
      "[nltk_data] Downloading package stopwords to\n",
      "[nltk_data]     /home/basscoder2808/nltk_data...\n",
      "[nltk_data]   Package stopwords is already up-to-date!\n",
      "[nltk_data] Downloading package wordnet to\n",
      "[nltk_data]     /home/basscoder2808/nltk_data...\n",
      "[nltk_data]   Package wordnet is already up-to-date!\n"
     ]
    },
    {
     "data": {
      "text/plain": [
       "True"
      ]
     },
     "execution_count": 1,
     "metadata": {},
     "output_type": "execute_result"
    }
   ],
   "source": [
    "import nltk\n",
    "nltk.download('stopwords')\n",
    "nltk.download('wordnet')"
   ]
  },
  {
   "cell_type": "code",
   "execution_count": 7,
   "metadata": {
    "colab": {},
    "colab_type": "code",
    "id": "CrLG2ksh5w4Z"
   },
   "outputs": [],
   "source": [
    "import numpy as np\n",
    "import pandas as pd\n",
    "import math\n",
    "from sklearn.model_selection import train_test_split,cross_val_score\n",
    "import math\n",
    "import operator\n",
    "import pickle\n",
    "import re\n",
    "from nltk.stem import WordNetLemmatizer\n",
    "import numpy as np\n",
    "from nltk.corpus import stopwords\n",
    "from nltk.stem.porter import PorterStemmer\n",
    "from nltk.tokenize import RegexpTokenizer\n",
    "from statistics import mean\n",
    "from nltk.corpus import wordnet \n",
    "import requests\n",
    "from bs4 import BeautifulSoup\n",
    "from itertools import combinations\n",
    "from time import time\n",
    "from collections import Counter\n",
    "import operator\n",
    "import warnings\n",
    "from Treatment import diseaseDetail\n",
    "warnings.simplefilter(\"ignore\")"
   ]
  },
  {
   "cell_type": "code",
   "execution_count": 9,
   "metadata": {
    "colab": {},
    "colab_type": "code",
    "id": "txTu6XeVgGAK"
   },
   "outputs": [],
   "source": [
    "df=pd.read_csv(\"Dataset/dis_sym_dataset_norm.csv\")\n",
    "documentname_list=list(df['label_dis'])\n",
    "df=df.iloc[:,1:]\n",
    "columns_name=list(df.columns)\n",
    "documentname_list=list(documentname_list)\n",
    "\n",
    "N=len(df)\n",
    "M=len(columns_name)\n",
    "\n",
    "# All symptoms IDF\n",
    "idf={}\n",
    "for col in columns_name:\n",
    "  temp=np.count_nonzero(df[col])\n",
    "  idf[col]=np.log(N/temp)\n",
    "\n",
    "# All disease,symptom TF\n",
    "tf={}\n",
    "for i in range(N):\n",
    "  for col in columns_name:\n",
    "    key=(documentname_list[i],col)\n",
    "    tf[key]=df.loc[i,col]\n",
    "\n",
    "# All disease,symptom TF.IDF\n",
    "tf_idf={}\n",
    "for i in range(N):\n",
    "  for col in columns_name:\n",
    "    key=(documentname_list[i],col)\n",
    "    tf_idf[key]=float(idf[col])*float(tf[key])\n",
    "\n",
    "# vector of TF.IDF\n",
    "D = np.zeros((N, M),dtype='float32')\n",
    "for i in tf_idf:\n",
    "    sym = columns_name.index(i[1])\n",
    "    dis=documentname_list.index(i[0])\n",
    "    D[dis][sym] = tf_idf[i]\n",
    "\n",
    "# function for cosine dot product\n",
    "def cosine_dot(a, b):\n",
    "    if np.linalg.norm(a) == 0 or np.linalg.norm(b) == 0:\n",
    "        return 0\n",
    "    else:\n",
    "        temp = np.dot(a, b) / (np.linalg.norm(a) * np.linalg.norm(b))\n",
    "        return temp\n",
    "\n",
    "# convert data to lower case\n",
    "def convert_tolowercase(data):\n",
    "    return data.lower()\n",
    "\n",
    "# tokenizing using regextokenizer\n",
    "def regextokenizer_func(data):\n",
    "    tokenizer = RegexpTokenizer(r'\\w+')\n",
    "    data = tokenizer.tokenize(data)\n",
    "    return data\n",
    "\n",
    "# function to generate query vector for tf_idf\n",
    "def gen_vector(tokens):\n",
    "    Q = np.zeros(M)\n",
    "    counter = Counter(tokens)\n",
    "    query_weights = {}\n",
    "    for token in np.unique(tokens):\n",
    "        tf = counter[token]\n",
    "        try:\n",
    "          idf_temp=idf[token]\n",
    "        except:\n",
    "          pass\n",
    "        try:\n",
    "            ind = columns_name.index(token)\n",
    "            Q[ind] = tf*idf_temp\n",
    "        except:\n",
    "            pass\n",
    "    return Q\n",
    "\n",
    "# function to calculate tf_idf_score\n",
    "def tf_idf_score(k, query):\n",
    "    query_weights = {}\n",
    "    for key in tf_idf:\n",
    "        if key[1] in query:\n",
    "            try:\n",
    "                query_weights[key[0]] += tf_idf[key]\n",
    "            except:\n",
    "                query_weights[key[0]] = tf_idf[key]\n",
    "    query_weights = sorted(query_weights.items(), key=lambda x: x[1], reverse=True)\n",
    "  \n",
    "    l = []\n",
    "    for i in query_weights[:k]:\n",
    "        l.append(i)\n",
    "    return l\n",
    "\n",
    "# function to calculte Cosine Similarity \n",
    "def cosine_similarity(k, query):\n",
    "    d_cosines = []\n",
    "    query_vector = gen_vector(query)\n",
    "    for d in D:\n",
    "        d_cosines.append(cosine_dot(query_vector, d))\n",
    "    out = np.array(d_cosines).argsort()[-k:][::-1]\n",
    "  \n",
    "    final_display_disease={}\n",
    "    for lt in set(out):\n",
    "      final_display_disease[lt] = float(d_cosines[lt])\n",
    "    return final_display_disease"
   ]
  },
  {
   "cell_type": "code",
   "execution_count": 10,
   "metadata": {
    "colab": {},
    "colab_type": "code",
    "id": "Pyd1WbBq5Ngh"
   },
   "outputs": [],
   "source": [
    "# returns the list of synonyms of the input word from thesaurus.com (https://www.thesaurus.com/) and wordnet (https://www.nltk.org/howto/wordnet.html)\n",
    "def synonyms(term):\n",
    "    synonyms = []\n",
    "    response = requests.get('https://www.thesaurus.com/browse/{}'.format(term))\n",
    "    soup = BeautifulSoup(response.content,  \"html.parser\")\n",
    "    try:\n",
    "        container=soup.find('section', {'class': 'MainContentContainer'}) \n",
    "        row=container.find('div',{'class':'css-191l5o0-ClassicContentCard'})\n",
    "        row = row.find_all('li')\n",
    "        for x in row:\n",
    "            synonyms.append(x.get_text())\n",
    "    except:\n",
    "        None\n",
    "    for syn in wordnet.synsets(term):\n",
    "        synonyms+=syn.lemma_names()\n",
    "    return set(synonyms)"
   ]
  },
  {
   "cell_type": "code",
   "execution_count": 11,
   "metadata": {
    "colab": {},
    "colab_type": "code",
    "id": "cXPUlgHi63Zu"
   },
   "outputs": [],
   "source": [
    "# instantiate objects of libraries\n",
    "splitter = RegexpTokenizer(r'\\w+')\n",
    "stop_words = stopwords.words('english')\n",
    "lemmatizer = WordNetLemmatizer()"
   ]
  },
  {
   "cell_type": "markdown",
   "metadata": {
    "colab_type": "text",
    "id": "DGtPYRLhey0y"
   },
   "source": [
    "**Disease Symptom dataset** was created in a separate python program.\n",
    "\n",
    "**Dataset scrapping** was done using **NHP website** and **wikipedia data**"
   ]
  },
  {
   "cell_type": "markdown",
   "metadata": {
    "colab_type": "text",
    "id": "rZTXyRhNgN_O"
   },
   "source": [
    "Disease Combination dataset contains the combinations for each of the disease present in dataset as practically it is often observed that it is not necessary for a person to have a disease when all the symptoms are faced by the patient or the user.\n",
    "\n",
    "*To tackle this problem, combinations are made with the symptoms for each disease.*\n",
    "\n",
    " **This increases the size of the data exponentially and helps the model to predict the disease with much better accuracy.**"
   ]
  },
  {
   "cell_type": "markdown",
   "metadata": {
    "colab_type": "text",
    "id": "h1LSI08aiDTn"
   },
   "source": [
    "*df_comb -> Dataframe consisting of dataset generated by combining symptoms for each disease.*\n",
    "\n",
    "*df_norm -> Dataframe consisting of dataset which contains a single row for each diseases with all the symptoms for that corresponding disease.*\n",
    "\n",
    "**Dataset contains 261 diseases and their symptoms**"
   ]
  },
  {
   "cell_type": "code",
   "execution_count": 12,
   "metadata": {
    "colab": {},
    "colab_type": "code",
    "id": "hpK73qQx5NmJ"
   },
   "outputs": [],
   "source": [
    "# Load Dataset scraped from NHP (https://www.nhp.gov.in/disease-a-z) & Wikipedia\n",
    "# Scrapping and creation of dataset csv is done in a separate program\n",
    "df_comb = pd.read_csv(\"Dataset/dis_sym_dataset_comb.csv\") # Disease combination\n",
    "df_norm = pd.read_csv(\"Dataset/dis_sym_dataset_norm.csv\") # Individual Disease\n",
    "Y = df_norm.iloc[:, 0:1]\n",
    "X = df_norm.iloc[:, 1:]\n",
    "# List of symptoms\n",
    "dataset_symptoms = list(X.columns)\n",
    "diseases = list(set(Y['label_dis']))\n",
    "diseases.sort()"
   ]
  },
  {
   "cell_type": "code",
   "execution_count": 13,
   "metadata": {
    "colab": {
     "base_uri": "https://localhost:8080/",
     "height": 67
    },
    "colab_type": "code",
    "id": "yd8K2QeH5NsL",
    "outputId": "62571279-7471-4698-f233-6e0a97c34979"
   },
   "outputs": [
    {
     "name": "stdout",
     "output_type": "stream",
     "text": [
      "\n",
      "Please enter symptoms separated by comma(,):\n",
      "cough,fever,weakness,body pain\n"
     ]
    }
   ],
   "source": [
    "# Taking symptoms from user as input\n",
    "# Preprocessing the input symtoms \n",
    "user_symptoms = str(input(\"\\nPlease enter symptoms separated by comma(,):\\n\")).lower().split(',')\n",
    "processed_user_symptoms=[]\n",
    "for sym in user_symptoms:\n",
    "    sym=sym.strip()\n",
    "    sym=sym.replace('-',' ')\n",
    "    sym=sym.replace(\"'\",'')\n",
    "    sym = ' '.join([lemmatizer.lemmatize(word) for word in splitter.tokenize(sym)])\n",
    "    processed_user_symptoms.append(sym)  "
   ]
  },
  {
   "cell_type": "code",
   "execution_count": 14,
   "metadata": {
    "colab": {
     "base_uri": "https://localhost:8080/",
     "height": 70
    },
    "colab_type": "code",
    "id": "THRf6-Wa5Nxu",
    "outputId": "122d0bcb-569f-4610-f713-76382d03fb3c"
   },
   "outputs": [
    {
     "name": "stdout",
     "output_type": "stream",
     "text": [
      "After query expansion done by using the symptoms entered\n",
      "['coughing cough', 'febrility fever feverishness pyrexia febricity', 'weakness helplessness failing impuissance', 'pain nuisance personify ail organic structure torso trouble anguish consistency eubstance physical structure soundbox pain sensation infliction painful sensation body dead body body pain painfulness consistence annoyance botheration trunk hurting pain in the neck pain in the ass hurt bother']\n"
     ]
    }
   ],
   "source": [
    "# Taking each user symptom and finding all its synonyms and appending it to the pre-processed symptom string\n",
    "user_symptoms = []\n",
    "for user_sym in processed_user_symptoms:\n",
    "    user_sym = user_sym.split()\n",
    "    str_sym = set()\n",
    "    for comb in range(1, len(user_sym)+1):\n",
    "        for subset in combinations(user_sym, comb):\n",
    "            subset=' '.join(subset)\n",
    "            subset = synonyms(subset) \n",
    "            str_sym.update(subset)\n",
    "    str_sym.add(' '.join(user_sym))\n",
    "    user_symptoms.append(' '.join(str_sym).replace('_',' '))\n",
    "# query expansion performed by joining synonyms found for each symptoms initially entered\n",
    "print(\"After query expansion done by using the symptoms entered\")\n",
    "print(user_symptoms)"
   ]
  },
  {
   "cell_type": "markdown",
   "metadata": {
    "colab_type": "text",
    "id": "7sPyVlJIjdv2"
   },
   "source": [
    "The below procedure is performed in order to show the symptom synonmys found for the symptoms entered by the user.\n",
    "\n",
    "The symptom synonyms and user symptoms are matched with the symptoms present in dataset. Only the symptoms which matches the symptoms present in dataset are shown back to the user. "
   ]
  },
  {
   "cell_type": "code",
   "execution_count": 15,
   "metadata": {
    "colab": {},
    "colab_type": "code",
    "id": "tFUYSnLU5Nu-"
   },
   "outputs": [],
   "source": [
    "# Loop over all the symptoms in dataset and check its similarity score to the synonym string of the user-input \n",
    "# symptoms. If similarity>0.5, add the symptom to the final list\n",
    "found_symptoms = set()\n",
    "for idx, data_sym in enumerate(dataset_symptoms):\n",
    "    data_sym_split=data_sym.split()\n",
    "    for user_sym in user_symptoms:\n",
    "        count=0\n",
    "        for symp in data_sym_split:\n",
    "            if symp in user_sym.split():\n",
    "                count+=1\n",
    "        if count/len(data_sym_split)>0.5:\n",
    "            found_symptoms.add(data_sym)\n",
    "found_symptoms = list(found_symptoms)"
   ]
  },
  {
   "cell_type": "code",
   "execution_count": 18,
   "metadata": {
    "colab": {
     "base_uri": "https://localhost:8080/",
     "height": 235
    },
    "colab_type": "code",
    "id": "jBV1qPFv5NpY",
    "outputId": "bc96a52e-15fc-496a-c333-5d195a4fe430"
   },
   "outputs": [
    {
     "name": "stdout",
     "output_type": "stream",
     "text": [
      "Top matching symptoms from your search!\n",
      "0 : fever\n",
      "1 : coughing\n",
      "2 : painful\n",
      "3 : neck\n",
      "4 : trouble sensation\n",
      "\n",
      "Please select the relevant symptoms. Enter indices (separated-space):\n",
      "0 1 2 4\n"
     ]
    }
   ],
   "source": [
    "# Print all found symptoms\n",
    "print(\"Top matching symptoms from your search!\")\n",
    "for idx, symp in enumerate(found_symptoms):\n",
    "    print(idx,\":\",symp)\n",
    "\n",
    "# Show the related symptoms found in the dataset and ask user to select among them\n",
    "select_list = input(\"\\nPlease select the relevant symptoms. Enter indices (separated-space):\\n\").split()\n",
    "\n",
    "# Find other relevant symptoms from the dataset based on user symptoms based on the highest co-occurance with the\n",
    "# ones that is input by the user\n",
    "dis_list = set()\n",
    "final_symp = [] \n",
    "counter_list = []\n",
    "for idx in select_list:\n",
    "    symp=found_symptoms[int(idx)]\n",
    "    final_symp.append(symp)\n",
    "    dis_list.update(set(df_norm[df_norm[symp]==1]['label_dis']))\n",
    "   \n",
    "for dis in dis_list:\n",
    "    row = df_norm.loc[df_norm['label_dis'] == dis].values.tolist()\n",
    "    row[0].pop(0)\n",
    "    for idx,val in enumerate(row[0]):\n",
    "        if val!=0 and dataset_symptoms[idx] not in final_symp:\n",
    "            counter_list.append(dataset_symptoms[idx])\n",
    "\n",
    "# Symptoms that co-occur with the ones selected by user              \n",
    "dict_symp = dict(Counter(counter_list))\n",
    "dict_symp_tup = sorted(dict_symp.items(), key=operator.itemgetter(1),reverse=True)   "
   ]
  },
  {
   "cell_type": "code",
   "execution_count": 19,
   "metadata": {
    "colab": {
     "base_uri": "https://localhost:8080/",
     "height": 622
    },
    "colab_type": "code",
    "id": "SgvzIn7Q5NjV",
    "outputId": "d0da9e18-ff49-4cd1-f486-983f06140917"
   },
   "outputs": [
    {
     "name": "stdout",
     "output_type": "stream",
     "text": [
      "\n",
      "Common co-occuring symptoms:\n",
      "0 : headache\n",
      "1 : testicular pain\n",
      "2 : vomiting\n",
      "3 : barky cough\n",
      "4 : sore throat\n",
      "Do you have have of these symptoms? If Yes, enter the indices (space-separated), 'no' to stop, '-1' to skip:\n",
      "0 2 3\n",
      "\n",
      "Common co-occuring symptoms:\n",
      "0 : maculopapular rash\n",
      "1 : confusion\n",
      "2 : diarrhea\n",
      "3 : feeling tired\n",
      "4 : swollen lymph node\n",
      "Do you have have of these symptoms? If Yes, enter the indices (space-separated), 'no' to stop, '-1' to skip:\n",
      "1\n",
      "\n",
      "Common co-occuring symptoms:\n",
      "0 : shortness breath\n",
      "1 : muscle weakness\n",
      "2 : unintended weight loss\n",
      "3 : runny nose\n",
      "4 : tiredness\n",
      "Do you have have of these symptoms? If Yes, enter the indices (space-separated), 'no' to stop, '-1' to skip:\n",
      "-1\n",
      "\n",
      "Common co-occuring symptoms:\n",
      "0 : large lymph node\n",
      "1 : chest pain\n",
      "2 : severe pain\n",
      "3 : enlarged lymph node neck\n",
      "4 : non itchy skin ulcer\n",
      "Do you have have of these symptoms? If Yes, enter the indices (space-separated), 'no' to stop, '-1' to skip:\n",
      "2\n",
      "\n",
      "Common co-occuring symptoms:\n",
      "0 : vaginal bleeding\n",
      "1 : seizure\n",
      "2 : joint bone pain\n",
      "3 : red eye\n",
      "4 : lower abdominal pain\n",
      "Do you have have of these symptoms? If Yes, enter the indices (space-separated), 'no' to stop, '-1' to skip:\n",
      "3\n",
      "\n",
      "Common co-occuring symptoms:\n",
      "0 : nausea\n",
      "1 : muscle joint pain\n",
      "2 : low blood pressure\n",
      "3 : skin peeling\n",
      "4 : purple colored skin affected area\n",
      "Do you have have of these symptoms? If Yes, enter the indices (space-separated), 'no' to stop, '-1' to skip:\n",
      "1\n",
      "\n",
      "Common co-occuring symptoms:\n",
      "0 : enlarged thyroid\n",
      "1 : low red blood cell\n",
      "2 : expanding area redness site tick bite\n",
      "3 : erythema marginatum\n",
      "4 : involuntary muscle movement\n",
      "Do you have have of these symptoms? If Yes, enter the indices (space-separated), 'no' to stop, '-1' to skip:\n",
      "0\n",
      "\n",
      "Common co-occuring symptoms:\n",
      "0 : multiple painful joint\n",
      "1 : chest tightness\n",
      "2 : recurring episode wheezing\n",
      "3 : diarrhoea\n",
      "4 : muscular pain\n",
      "Do you have have of these symptoms? If Yes, enter the indices (space-separated), 'no' to stop, '-1' to skip:\n",
      "0\n",
      "\n",
      "Common co-occuring symptoms:\n",
      "0 : blindness one eye\n",
      "1 : double vision\n",
      "2 : trouble coordination\n",
      "3 : blister sunlight\n",
      "4 : constipation\n",
      "Do you have have of these symptoms? If Yes, enter the indices (space-separated), 'no' to stop, '-1' to skip:\n",
      "1\n",
      "\n",
      "Common co-occuring symptoms:\n",
      "0 : depending subtype abdominal pain\n",
      "1 : fatigue\n",
      "2 : loss smell\n",
      "3 : sometimes symptom\n",
      "4 : anemia\n",
      "Do you have have of these symptoms? If Yes, enter the indices (space-separated), 'no' to stop, '-1' to skip:\n",
      "1\n",
      "\n",
      "Common co-occuring symptoms:\n",
      "0 : diarrhea mixed blood\n",
      "1 : hair loss\n",
      "2 : mouth ulcer\n",
      "3 : painful swollen joint\n",
      "4 : red rash\n",
      "Do you have have of these symptoms? If Yes, enter the indices (space-separated), 'no' to stop, '-1' to skip:\n",
      "2\n",
      "\n",
      "Common co-occuring symptoms:\n",
      "0 : dry cough\n",
      "1 : muscle ache difficulty breathing\n",
      "2 : bloody diarrhea\n",
      "3 : localized breast pain redness\n",
      "4 : bad breath\n",
      "Do you have have of these symptoms? If Yes, enter the indices (space-separated), 'no' to stop, '-1' to skip:\n",
      "no\n"
     ]
    }
   ],
   "source": [
    "# Iteratively, suggest top co-occuring symptoms to the user and ask to select the ones applicable \n",
    "found_symptoms=[]\n",
    "count=0\n",
    "for tup in dict_symp_tup:\n",
    "    count+=1\n",
    "    found_symptoms.append(tup[0])\n",
    "    if count%5==0 or count==len(dict_symp_tup):\n",
    "        print(\"\\nCommon co-occuring symptoms:\")\n",
    "        for idx,ele in enumerate(found_symptoms):\n",
    "            print(idx,\":\",ele)\n",
    "        select_list = input(\"Do you have have of these symptoms? If Yes, enter the indices (space-separated), 'no' to stop, '-1' to skip:\\n\").lower().split();\n",
    "        if select_list[0]=='no':\n",
    "            break\n",
    "        if select_list[0]=='-1':\n",
    "            found_symptoms = [] \n",
    "            continue\n",
    "        for idx in select_list:\n",
    "            final_symp.append(found_symptoms[int(idx)])\n",
    "        found_symptoms = []    "
   ]
  },
  {
   "cell_type": "markdown",
   "metadata": {
    "colab_type": "text",
    "id": "nI5taHc8pfY3"
   },
   "source": [
    "Final Symptom list"
   ]
  },
  {
   "cell_type": "code",
   "execution_count": 20,
   "metadata": {
    "colab": {
     "base_uri": "https://localhost:8080/",
     "height": 118
    },
    "colab_type": "code",
    "id": "YYPReN9D5Nd_",
    "outputId": "af695963-a0e3-4e76-c2a9-4a7c2ca75442"
   },
   "outputs": [
    {
     "name": "stdout",
     "output_type": "stream",
     "text": [
      "Final list of Symptoms used for prediction are : \n",
      "fever\n",
      "coughing\n",
      "painful\n",
      "trouble sensation\n",
      "headache\n",
      "vomiting\n",
      "barky cough\n",
      "confusion\n",
      "severe pain\n",
      "red eye\n",
      "muscle joint pain\n",
      "enlarged thyroid\n",
      "multiple painful joint\n",
      "double vision\n",
      "fatigue\n",
      "mouth ulcer\n"
     ]
    }
   ],
   "source": [
    "#Calculating TF-IDF and Cosine Similarity using matched symptoms\n",
    "k = 10\n",
    "\n",
    "print(\"Final list of Symptoms used for prediction are : \")\n",
    "for val in final_symp:\n",
    "    print(val)"
   ]
  },
  {
   "cell_type": "code",
   "execution_count": 22,
   "metadata": {
    "colab": {
     "base_uri": "https://localhost:8080/",
     "height": 286
    },
    "colab_type": "code",
    "id": "tWUsVkF3t6jk",
    "outputId": "7baabb86-a3b9-4e7b-e7ce-fc4818ea9de3"
   },
   "outputs": [
    {
     "name": "stdout",
     "output_type": "stream",
     "text": [
      "\n",
      "Top 10 diseases predicted based on TF_IDF Matching :\n",
      "\n",
      "0. Disease : Influenza \t Score : 12.58\n",
      "1. Disease : Multiple sclerosis \t Score : 10.44\n",
      "2. Disease : Nipah virus infection \t Score : 9.77\n",
      "3. Disease : Acute encephalitis syndrome \t Score : 9.18\n",
      "4. Disease : Japanese Encephalitis \t Score : 9.18\n",
      "5. Disease : Coronavirus disease 2019 (COVID-19) \t Score : 9.02\n",
      "6. Disease : Dengue \t Score : 8.11\n",
      "7. Disease : Carbon monoxide poisoning \t Score : 7.89\n",
      "8. Disease : Zika virus disease \t Score : 7.71\n",
      "9. Disease : Porphyria \t Score : 7.22\n",
      "\n",
      "More details about the disease? Enter index of disease or '-1' to discontinue:\n",
      "-1\n"
     ]
    }
   ],
   "source": [
    "topk1=tf_idf_score(k,final_symp)\n",
    "topk2=cosine_similarity(k,final_symp)\n",
    "# Show top 10 highly probable disease to the user.\n",
    "print(f\"\\nTop {k} diseases predicted based on TF_IDF Matching :\\n\")\n",
    "i = 0\n",
    "topk1_index_mapping = {}\n",
    "for key, score in topk1:\n",
    "  print(f\"{i}. Disease : {key} \\t Score : {round(score, 2)}\")\n",
    "  topk1_index_mapping[i] = key\n",
    "  i += 1\n",
    "\n",
    "select = input(\"\\nMore details about the disease? Enter index of disease or '-1' to discontinue:\\n\")\n",
    "if select!='-1':\n",
    "    dis=topk1_index_mapping[int(select)]\n",
    "    print()\n",
    "    print(diseaseDetail(dis))"
   ]
  },
  {
   "cell_type": "code",
   "execution_count": 23,
   "metadata": {
    "colab": {
     "base_uri": "https://localhost:8080/",
     "height": 470
    },
    "colab_type": "code",
    "id": "AHiGmHhqdnMs",
    "outputId": "70f583d0-83e5-4424-8849-c97fbb189c41"
   },
   "outputs": [
    {
     "name": "stdout",
     "output_type": "stream",
     "text": [
      "Top 10 disease based on Cosine Similarity Matching :\n",
      " \n",
      "0. Disease : Influenza \t Score : 0.31\n",
      "1. Disease : Nipah virus infection \t Score : 0.3\n",
      "2. Disease : Multiple sclerosis \t Score : 0.28\n",
      "3. Disease : Dengue \t Score : 0.26\n",
      "4. Disease : Brucellosis \t Score : 0.26\n",
      "5. Disease : Japanese Encephalitis \t Score : 0.21\n",
      "6. Disease : Malaria \t Score : 0.2\n",
      "7. Disease : Zika virus disease \t Score : 0.2\n",
      "8. Disease : Necrotizing Fasciitis \t Score : 0.19\n",
      "9. Disease : Peritonitis \t Score : 0.19\n",
      "\n",
      "More details about the disease? Enter index of disease or '-1' to discontinue and close the system:\n",
      "-1\n"
     ]
    }
   ],
   "source": [
    "# display top k diseases predicted with cosine probablity\n",
    "print(f\"Top {k} disease based on Cosine Similarity Matching :\\n \")\n",
    "topk2_sorted = dict(sorted(topk2.items(), key=lambda kv: kv[1], reverse=True))\n",
    "j = 0\n",
    "topk2_index_mapping = {}\n",
    "for key in topk2_sorted:\n",
    "  print(f\"{j}. Disease : {diseases[key]} \\t Score : {round(topk2_sorted[key], 2)}\")\n",
    "  topk2_index_mapping[j] = diseases[key]\n",
    "  j += 1\n",
    "\n",
    "    \n",
    "select = input(\"\\nMore details about the disease? Enter index of disease or '-1' to discontinue and close the system:\\n\")\n",
    "if select!='-1':\n",
    "    dis=topk2_index_mapping[int(select)]\n",
    "    print()\n",
    "    print(diseaseDetail(dis))"
   ]
  }
 ],
 "metadata": {
  "colab": {
   "collapsed_sections": [],
   "name": "TF_IDF_NN.ipynb",
   "provenance": []
  },
  "kernelspec": {
   "display_name": "Python 3",
   "language": "python",
   "name": "python3"
  },
  "language_info": {
   "codemirror_mode": {
    "name": "ipython",
    "version": 3
   },
   "file_extension": ".py",
   "mimetype": "text/x-python",
   "name": "python",
   "nbconvert_exporter": "python",
   "pygments_lexer": "ipython3",
   "version": "3.8.5"
  }
 },
 "nbformat": 4,
 "nbformat_minor": 1
}
